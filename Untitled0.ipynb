{
 "metadata": {
  "name": ""
 },
 "nbformat": 3,
 "nbformat_minor": 0,
 "worksheets": [
  {
   "cells": [
    {
     "cell_type": "code",
     "collapsed": false,
     "input": [
      "dna = 'CTGTTGACATGCATTCACGCTACGCTAGCT'\n",
      "print dna\n",
      "dna=dna.replace('C', 'M')\n",
      "dna=dna.replace('G', 'C')\n",
      "dna=dna.replace('M', 'G')\n",
      "dna=dna.replace('A', 'M')\n",
      "dna=dna.replace('T', 'A')\n",
      "dna=dna.replace('M', 'T')\n",
      "print(dna)"
     ],
     "language": "python",
     "metadata": {},
     "outputs": [
      {
       "output_type": "stream",
       "stream": "stdout",
       "text": [
        "CTGTTGACATGCATTCACGCTACGCTAGCT\n",
        "GACAACTGTACGTAAGTGCGATGCGATCGA\n"
       ]
      }
     ],
     "prompt_number": 6
    },
    {
     "cell_type": "code",
     "collapsed": false,
     "input": [
      "def <function name>():\n",
      "    <function body>"
     ],
     "language": "python",
     "metadata": {},
     "outputs": [
      {
       "ename": "SyntaxError",
       "evalue": "invalid syntax (<ipython-input-7-168d2949d2d8>, line 1)",
       "output_type": "pyerr",
       "traceback": [
        "\u001b[1;36m  File \u001b[1;32m\"<ipython-input-7-168d2949d2d8>\"\u001b[1;36m, line \u001b[1;32m1\u001b[0m\n\u001b[1;33m    def <function name>():\u001b[0m\n\u001b[1;37m        ^\u001b[0m\n\u001b[1;31mSyntaxError\u001b[0m\u001b[1;31m:\u001b[0m invalid syntax\n"
       ]
      }
     ],
     "prompt_number": 7
    },
    {
     "cell_type": "code",
     "collapsed": false,
     "input": [
      "def <function name>(<argument>):\n",
      "    <function body>\n",
      "    return <local variable 1>"
     ],
     "language": "python",
     "metadata": {},
     "outputs": [
      {
       "ename": "SyntaxError",
       "evalue": "invalid syntax (<ipython-input-8-81738a288290>, line 1)",
       "output_type": "pyerr",
       "traceback": [
        "\u001b[1;36m  File \u001b[1;32m\"<ipython-input-8-81738a288290>\"\u001b[1;36m, line \u001b[1;32m1\u001b[0m\n\u001b[1;33m    def <function name>(<argument>):\u001b[0m\n\u001b[1;37m        ^\u001b[0m\n\u001b[1;31mSyntaxError\u001b[0m\u001b[1;31m:\u001b[0m invalid syntax\n"
       ]
      }
     ],
     "prompt_number": 8
    },
    {
     "cell_type": "code",
     "collapsed": false,
     "input": [
      "dna = 'CTGTTGACATGCATTCACGCTACGCTAGCT'\n",
      "def dna_sequence_complement(dna):\n",
      "    dna=dna.replace('C', 'M')\n",
      "    dna=dna.replace('G', 'C')\n",
      "    dna=dna.replace('M', 'G')\n",
      "    dna=dna.replace('A', 'M')\n",
      "    dna=dna.replace('T', 'A')\n",
      "    dna=dna.replace('M', 'T')\n",
      "    return dna\n",
      "print dna_sequence_complement(dna)\n"
     ],
     "language": "python",
     "metadata": {},
     "outputs": [
      {
       "output_type": "stream",
       "stream": "stdout",
       "text": [
        "GACAACTGTACGTAAGTGCGATGCGATCGA\n"
       ]
      }
     ],
     "prompt_number": 13
    },
    {
     "cell_type": "code",
     "collapsed": false,
     "input": [
      "dna2=\"ACTGGATC\"\n",
      "print dna_sequence_complement(dna2)\n",
      "       "
     ],
     "language": "python",
     "metadata": {},
     "outputs": [
      {
       "output_type": "stream",
       "stream": "stdout",
       "text": [
        "TGACCTAG\n"
       ]
      }
     ],
     "prompt_number": 16
    }
   ],
   "metadata": {}
  }
 ]
}